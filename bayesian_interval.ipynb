{
 "cells": [
  {
   "cell_type": "markdown",
   "id": "edcf174b",
   "metadata": {},
   "source": [
    "# Bayesian_interval"
   ]
  },
  {
   "cell_type": "code",
   "execution_count": 7,
   "id": "e9ce96ec",
   "metadata": {},
   "outputs": [],
   "source": [
    "import numpy as np\n",
    "\n",
    "np.random.seed(100)\n",
    "true_mean=4.5\n",
    "true_stddev=0.8\n",
    "sample_size=100\n",
    "sample_data=np.random.normal(loc=true_mean, scale =true_stddev, size=sample_size  )\n"
   ]
  },
  {
   "cell_type": "code",
   "execution_count": 8,
   "id": "84663f2d",
   "metadata": {},
   "outputs": [
    {
     "name": "stdout",
     "output_type": "stream",
     "text": [
      "Posterior distribution mean: 0.06932300593128725\n",
      "Posterior distribution standard deviation: 0.07974522228289001\n"
     ]
    }
   ],
   "source": [
    "from scipy.stats import norm\n",
    "prior_mean=4\n",
    "prior_stddev=1\n",
    "#posterior_mean=(prior_mean/prior_stddev**2+np.mean(sample_data)\n",
    "posterior_mean = (prior_mean / prior_stddev**2 + np.mean(sample_data) / true_stddev**2) / \\\n",
    "                 (1 / prior_stddev**2 + len(sample_data) / true_stddev**2)\n",
    "posterior_stddev = np.sqrt(1 / (1 / prior_stddev**2 + len(sample_data) / true_stddev**2))\n",
    "print(\"Posterior distribution mean:\", posterior_mean)\n",
    "print(\"Posterior distribution standard deviation:\", posterior_stddev)               \n",
    "                "
   ]
  },
  {
   "cell_type": "code",
   "execution_count": 4,
   "id": "4a713a81",
   "metadata": {},
   "outputs": [
    {
     "data": {
      "text/plain": [
       "4.521687258792288"
      ]
     },
     "execution_count": 4,
     "metadata": {},
     "output_type": "execute_result"
    }
   ],
   "source": [
    "np.mean(sample_data)"
   ]
  },
  {
   "cell_type": "markdown",
   "id": "4c9a68b9",
   "metadata": {},
   "source": [
    "Burada, `true_stddev` popülasyonun bilinen standart sapmasıdır ve `np.mean(sample_data)` ve `len(sample_data)` sırasıyla örneklem ortalaması ve örneklem büyüklüğüdür. `prior_mean` ve `prior_stddev` ise öncül normal dağılımın sırasıyla ortalaması ve standart sapmasıdır.\n",
    "\n",
    "Posterior ortalama hesaplaması:\n",
    "$$\n",
    "posterior\\_mean = \\frac{\\frac{prior\\_mean}{prior\\_stddev^2} + \\frac{\\text{örneklem ortalaması}}{\\text{bilinen standart sapma}^2}}{\\frac{1}{prior\\_stddev^2} + \\frac{\\text{örneklem büyüklüğü}}{\\text{bilinen standart sapma}^2}}\n",
    "$$\n",
    "\n",
    "Posterior standart sapma hesaplaması:\n",
    "$$\n",
    "posterior\\_stddev = \\sqrt{\\frac{1}{\\frac{1}{prior\\_stddev^2} + \\frac{\\text{örneklem büyüklüğü}}{\\text{bilinen standart sapma}^2}}}\n",
    "$$\n",
    "\n",
    "Bu formüller, Bayes teoremi ve normal bir prior ve olasılık fonksiyonunun varsayımı kullanılarak elde edilir."
   ]
  },
  {
   "cell_type": "code",
   "execution_count": 9,
   "id": "2f1197e8",
   "metadata": {},
   "outputs": [
    {
     "name": "stdout",
     "output_type": "stream",
     "text": [
      "%95 güven aralığı: (-0.08697475768231815, 0.22562076954489263)\n"
     ]
    }
   ],
   "source": [
    "credible_interval=norm.interval(alpha=0.95,  loc=posterior_mean, scale=posterior_stddev)\n",
    "print('%95 güven aralığı:', credible_interval)"
   ]
  },
  {
   "cell_type": "code",
   "execution_count": null,
   "id": "e02678c9",
   "metadata": {},
   "outputs": [],
   "source": []
  }
 ],
 "metadata": {
  "kernelspec": {
   "display_name": "Python 3 (ipykernel)",
   "language": "python",
   "name": "python3"
  },
  "language_info": {
   "codemirror_mode": {
    "name": "ipython",
    "version": 3
   },
   "file_extension": ".py",
   "mimetype": "text/x-python",
   "name": "python",
   "nbconvert_exporter": "python",
   "pygments_lexer": "ipython3",
   "version": "3.9.13"
  }
 },
 "nbformat": 4,
 "nbformat_minor": 5
}
