{
 "cells": [
  {
   "cell_type": "markdown",
   "id": "b96bd26c",
   "metadata": {},
   "source": [
    "# Simple combination-Weighted combination\n"
   ]
  },
  {
   "cell_type": "code",
   "execution_count": 1,
   "id": "0d62c249",
   "metadata": {},
   "outputs": [
    {
     "name": "stdout",
     "output_type": "stream",
     "text": [
      "Simple combined score: 80.0\n",
      "Weighted combined score: 83.33333333333333\n"
     ]
    }
   ],
   "source": [
    "# Simple combination\n",
    "scores = [70, 80, 90]\n",
    "simple_combined_score = sum(scores) / len(scores)\n",
    "print(\"Simple combined score:\", simple_combined_score)\n",
    "\n",
    "# Weighted combination\n",
    "scores = [70, 80, 90]\n",
    "weights = [1, 2, 3]\n",
    "weighted_combined_score = sum([score * weight for score, weight in zip(scores, weights)]) / sum(weights)\n",
    "print(\"Weighted combined score:\", weighted_combined_score)"
   ]
  },
  {
   "cell_type": "markdown",
   "id": "2e29d9b2",
   "metadata": {},
   "source": [
    "In this example, we have a list of three test scores ([70, 80, 90]) and a list of weights ([1, 2, 3]). The simple combined score is calculated by adding the scores together and dividing by the number of scores, while the weighted combined score is calculated by multiplying each score by its corresponding weight, adding the weighted scores together, and dividing by the sum of the weights.\n",
    "\n",
    "When you run this code, you should see the following output:"
   ]
  },
  {
   "cell_type": "markdown",
   "id": "26a1ea23",
   "metadata": {},
   "source": [
    "The scores variable refers to a list of numerical scores, and the weights variable refers to a list of numerical weights, where each weight corresponds to a score in the same position of the scores list.\n",
    "\n",
    "The zip() function is used to iterate through the scores and weights lists simultaneously, pairing up the corresponding elements from each list.\n",
    "\n",
    "The list comprehension [score * weight for score, weight in zip(scores, weights)] multiplies each score by its corresponding weight, producing a list of weighted scores.\n",
    "\n",
    "The sum() function is used twice in this code. The first call to sum() adds up all of the weighted scores to get the total weighted score. The second call to sum() adds up all of the weights to get the total weight.\n",
    "\n",
    "\n",
    "Finally, the total weighted score is divided by the total weight to obtain the weighted average, which is stored in the weighted_combined_score variable."
   ]
  },
  {
   "cell_type": "code",
   "execution_count": 2,
   "id": "419acc6e",
   "metadata": {},
   "outputs": [
    {
     "name": "stdout",
     "output_type": "stream",
     "text": [
      "Weighted average: 86.90000000000002\n"
     ]
    }
   ],
   "source": [
    "# Define two lists of scores and weights\n",
    "scores = [85, 92, 78, 90]\n",
    "weights = [0.3, 0.4, 0.2, 0.1]\n",
    "\n",
    "# Calculate the weighted average\n",
    "weighted_sum = 0\n",
    "weight_sum = 0\n",
    "\n",
    "# Loop over the scores and weights lists simultaneously\n",
    "for i in range(len(scores)):\n",
    "    # Multiply the current score by its corresponding weight\n",
    "    weighted_score = scores[i] * weights[i]\n",
    "    # Add the weighted score to the running total\n",
    "    weighted_sum += weighted_score\n",
    "    # Add the weight to the running total\n",
    "    weight_sum += weights[i]\n",
    "\n",
    "# Divide the weighted sum by the weight sum to get the weighted average\n",
    "weighted_average = weighted_sum / weight_sum\n",
    "\n",
    "# Print the result\n",
    "print(\"Weighted average:\", weighted_average)"
   ]
  },
  {
   "cell_type": "code",
   "execution_count": null,
   "id": "03332f09",
   "metadata": {},
   "outputs": [],
   "source": [
    "\n",
    "\n",
    "\n"
   ]
  },
  {
   "cell_type": "markdown",
   "id": "f1f92111",
   "metadata": {},
   "source": [
    "\n",
    "\n"
   ]
  },
  {
   "cell_type": "markdown",
   "id": "1c6b42cb",
   "metadata": {},
   "source": []
  },
  {
   "cell_type": "code",
   "execution_count": null,
   "id": "4066e2df",
   "metadata": {},
   "outputs": [],
   "source": []
  }
 ],
 "metadata": {
  "kernelspec": {
   "display_name": "Python 3 (ipykernel)",
   "language": "python",
   "name": "python3"
  },
  "language_info": {
   "codemirror_mode": {
    "name": "ipython",
    "version": 3
   },
   "file_extension": ".py",
   "mimetype": "text/x-python",
   "name": "python",
   "nbconvert_exporter": "python",
   "pygments_lexer": "ipython3",
   "version": "3.9.13"
  }
 },
 "nbformat": 4,
 "nbformat_minor": 5
}
